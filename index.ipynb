{
 "cells": [
  {
   "cell_type": "markdown",
   "metadata": {},
   "source": [
    "# The Monty Hall Problem\n",
    "\n",
    "## Introduction\n",
    "\n",
    "The Monty Hall problem is a famous little puzzle from a game show. It goes like this: you are presented with 3 doors. Behind two are goats and behind the third is a car. You are asked to select a door; if you select the door with the car, you win! After selecting, the host then opens one of the remaining two doors, revealing a goat. The host then asks if you would like to switch doors or stick with your original choice. What would you do? Does it matter?\n",
    "\n",
    "<img src=\"images/Image_58_MontyHall.png\">\n",
    "\n",
    "## Objectives\n",
    "\n",
    "In this lab you will:\n",
    "\n",
    "- Use Bayes' theorem along with a simulation to solve the Monty Hall problem"
   ]
  },
  {
   "cell_type": "markdown",
   "metadata": {},
   "source": [
    "## Run a simulation\n",
    "\n",
    "This is not a traditional application of Bayes' theorem, so trying to formulate the problem as such is tricky at best. That said, the scenario does capture the motivating conception behind Bayesian statistics: updating our beliefs in the face of additional evidence. With this, you'll employ another frequently used tool Bayesians frequently employ, running simulations. To do this, generate a random integer between one and three to represent the door hiding the car. Then, generate a second integer between one and three representing the player's selection. Then, of those the contestant did not choose, select a door concealing a goat to reveal. Record the results of the simulated game if they changed versus if they did not. Repeat this process a thousand (or more) times. Finally, plot the results of your simulation as a line graph. The x-axis should be the number of simulations, and the y-axis should be the probability of winning. (There should be two lines on the graph, one for switching doors, and the other for keeping the original selection.)"
   ]
  },
  {
   "cell_type": "code",
   "execution_count": 87,
   "metadata": {},
   "outputs": [],
   "source": [
    "# Your code here\n",
    "def monty_hall(n):\n",
    "    \n",
    "    '''\n",
    "    simulates the monty hall problem \n",
    "    returns x array of number of simulations and\n",
    "    a y array for probability of success\n",
    "    '''\n",
    "    \n",
    "    import numpy as np\n",
    "    changed_list = []\n",
    "    didnt_change_list = []\n",
    "    for x in range(n):\n",
    "        doors = np.array([1,2,3])\n",
    "        car_door = np.random.randint(1,4) \n",
    "        first_guess = np.random.randint(1,4)\n",
    "        rest_of_doors = doors[doors != car_door]\n",
    "        reveal = np.random.choice(rest_of_doors)\n",
    "        remaining_doors = doors[(doors != reveal) & (doors != first_guess)]\n",
    "        changed = np.random.choice(remaining_doors)\n",
    "        didnt_change = first_guess\n",
    "        win_changed = changed == car_door\n",
    "        win_didnt_change = didnt_change == car_door \n",
    "        changed_list.append(win_changed)\n",
    "        didnt_change_list.append(win_didnt_change)\n",
    "    x = np.array(range(1,n))\n",
    "    y_changed = sum(changed_list)/len(x)\n",
    "    y_didnt_change = sum(didnt_change_list)/len(x)\n",
    "    \n",
    "    # print('car is behind: ', car_door)\n",
    "    # print('first guess was: ',first_guess)\n",
    "    # print('the door revealed was: ',reveal)\n",
    "    # print('guest changed to: ',changed)\n",
    "    # print('guest didnt change and kept: ',didnt_change)\n",
    "    \n",
    "    return [x, y_changed],[x, y_didnt_change]\n"
   ]
  },
  {
   "cell_type": "code",
   "execution_count": 92,
   "metadata": {},
   "outputs": [
    {
     "data": {
      "text/plain": [
       "[array([  1,   2,   3,   4,   5,   6,   7,   8,   9,  10,  11,  12,  13,\n",
       "         14,  15,  16,  17,  18,  19,  20,  21,  22,  23,  24,  25,  26,\n",
       "         27,  28,  29,  30,  31,  32,  33,  34,  35,  36,  37,  38,  39,\n",
       "         40,  41,  42,  43,  44,  45,  46,  47,  48,  49,  50,  51,  52,\n",
       "         53,  54,  55,  56,  57,  58,  59,  60,  61,  62,  63,  64,  65,\n",
       "         66,  67,  68,  69,  70,  71,  72,  73,  74,  75,  76,  77,  78,\n",
       "         79,  80,  81,  82,  83,  84,  85,  86,  87,  88,  89,  90,  91,\n",
       "         92,  93,  94,  95,  96,  97,  98,  99, 100, 101, 102, 103, 104,\n",
       "        105, 106, 107, 108, 109, 110, 111, 112, 113, 114, 115, 116, 117,\n",
       "        118, 119, 120, 121, 122, 123, 124, 125, 126, 127, 128, 129, 130,\n",
       "        131, 132, 133, 134, 135, 136, 137, 138, 139, 140, 141, 142, 143,\n",
       "        144, 145, 146, 147, 148, 149, 150, 151, 152, 153, 154, 155, 156,\n",
       "        157, 158, 159, 160, 161, 162, 163, 164, 165, 166, 167, 168, 169,\n",
       "        170, 171, 172, 173, 174, 175, 176, 177, 178, 179, 180, 181, 182,\n",
       "        183, 184, 185, 186, 187, 188, 189, 190, 191, 192, 193, 194, 195,\n",
       "        196, 197, 198, 199, 200, 201, 202, 203, 204, 205, 206, 207, 208,\n",
       "        209, 210, 211, 212, 213, 214, 215, 216, 217, 218, 219, 220, 221,\n",
       "        222, 223, 224, 225, 226, 227, 228, 229, 230, 231, 232, 233, 234,\n",
       "        235, 236, 237, 238, 239, 240, 241, 242, 243, 244, 245, 246, 247,\n",
       "        248, 249, 250, 251, 252, 253, 254, 255, 256, 257, 258, 259, 260,\n",
       "        261, 262, 263, 264, 265, 266, 267, 268, 269, 270, 271, 272, 273,\n",
       "        274, 275, 276, 277, 278, 279, 280, 281, 282, 283, 284, 285, 286,\n",
       "        287, 288, 289, 290, 291, 292, 293, 294, 295, 296, 297, 298, 299,\n",
       "        300, 301, 302, 303, 304, 305, 306, 307, 308, 309, 310, 311, 312,\n",
       "        313, 314, 315, 316, 317, 318, 319, 320, 321, 322, 323, 324, 325,\n",
       "        326, 327, 328, 329, 330, 331, 332, 333, 334, 335, 336, 337, 338,\n",
       "        339, 340, 341, 342, 343, 344, 345, 346, 347, 348, 349, 350, 351,\n",
       "        352, 353, 354, 355, 356, 357, 358, 359, 360, 361, 362, 363, 364,\n",
       "        365, 366, 367, 368, 369, 370, 371, 372, 373, 374, 375, 376, 377,\n",
       "        378, 379, 380, 381, 382, 383, 384, 385, 386, 387, 388, 389, 390,\n",
       "        391, 392, 393, 394, 395, 396, 397, 398, 399, 400, 401, 402, 403,\n",
       "        404, 405, 406, 407, 408, 409, 410, 411, 412, 413, 414, 415, 416,\n",
       "        417, 418, 419, 420, 421, 422, 423, 424, 425, 426, 427, 428, 429,\n",
       "        430, 431, 432, 433, 434, 435, 436, 437, 438, 439, 440, 441, 442,\n",
       "        443, 444, 445, 446, 447, 448, 449, 450, 451, 452, 453, 454, 455,\n",
       "        456, 457, 458, 459, 460, 461, 462, 463, 464, 465, 466, 467, 468,\n",
       "        469, 470, 471, 472, 473, 474, 475, 476, 477, 478, 479, 480, 481,\n",
       "        482, 483, 484, 485, 486, 487, 488, 489, 490, 491, 492, 493, 494,\n",
       "        495, 496, 497, 498, 499, 500, 501, 502, 503, 504, 505, 506, 507,\n",
       "        508, 509, 510, 511, 512, 513, 514, 515, 516, 517, 518, 519, 520,\n",
       "        521, 522, 523, 524, 525, 526, 527, 528, 529, 530, 531, 532, 533,\n",
       "        534, 535, 536, 537, 538, 539, 540, 541, 542, 543, 544, 545, 546,\n",
       "        547, 548, 549, 550, 551, 552, 553, 554, 555, 556, 557, 558, 559,\n",
       "        560, 561, 562, 563, 564, 565, 566, 567, 568, 569, 570, 571, 572,\n",
       "        573, 574, 575, 576, 577, 578, 579, 580, 581, 582, 583, 584, 585,\n",
       "        586, 587, 588, 589, 590, 591, 592, 593, 594, 595, 596, 597, 598,\n",
       "        599, 600, 601, 602, 603, 604, 605, 606, 607, 608, 609, 610, 611,\n",
       "        612, 613, 614, 615, 616, 617, 618, 619, 620, 621, 622, 623, 624,\n",
       "        625, 626, 627, 628, 629, 630, 631, 632, 633, 634, 635, 636, 637,\n",
       "        638, 639, 640, 641, 642, 643, 644, 645, 646, 647, 648, 649, 650,\n",
       "        651, 652, 653, 654, 655, 656, 657, 658, 659, 660, 661, 662, 663,\n",
       "        664, 665, 666, 667, 668, 669, 670, 671, 672, 673, 674, 675, 676,\n",
       "        677, 678, 679, 680, 681, 682, 683, 684, 685, 686, 687, 688, 689,\n",
       "        690, 691, 692, 693, 694, 695, 696, 697, 698, 699, 700, 701, 702,\n",
       "        703, 704, 705, 706, 707, 708, 709, 710, 711, 712, 713, 714, 715,\n",
       "        716, 717, 718, 719, 720, 721, 722, 723, 724, 725, 726, 727, 728,\n",
       "        729, 730, 731, 732, 733, 734, 735, 736, 737, 738, 739, 740, 741,\n",
       "        742, 743, 744, 745, 746, 747, 748, 749, 750, 751, 752, 753, 754,\n",
       "        755, 756, 757, 758, 759, 760, 761, 762, 763, 764, 765, 766, 767,\n",
       "        768, 769, 770, 771, 772, 773, 774, 775, 776, 777, 778, 779, 780,\n",
       "        781, 782, 783, 784, 785, 786, 787, 788, 789, 790, 791, 792, 793,\n",
       "        794, 795, 796, 797, 798, 799, 800, 801, 802, 803, 804, 805, 806,\n",
       "        807, 808, 809, 810, 811, 812, 813, 814, 815, 816, 817, 818, 819,\n",
       "        820, 821, 822, 823, 824, 825, 826, 827, 828, 829, 830, 831, 832,\n",
       "        833, 834, 835, 836, 837, 838, 839, 840, 841, 842, 843, 844, 845,\n",
       "        846, 847, 848, 849, 850, 851, 852, 853, 854, 855, 856, 857, 858,\n",
       "        859, 860, 861, 862, 863, 864, 865, 866, 867, 868, 869, 870, 871,\n",
       "        872, 873, 874, 875, 876, 877, 878, 879, 880, 881, 882, 883, 884,\n",
       "        885, 886, 887, 888, 889, 890, 891, 892, 893, 894, 895, 896, 897,\n",
       "        898, 899, 900, 901, 902, 903, 904, 905, 906, 907, 908, 909, 910,\n",
       "        911, 912, 913, 914, 915, 916, 917, 918, 919, 920, 921, 922, 923,\n",
       "        924, 925, 926, 927, 928, 929, 930, 931, 932, 933, 934, 935, 936,\n",
       "        937, 938, 939, 940, 941, 942, 943, 944, 945, 946, 947, 948, 949,\n",
       "        950, 951, 952, 953, 954, 955, 956, 957, 958, 959, 960, 961, 962,\n",
       "        963, 964, 965, 966, 967, 968, 969, 970, 971, 972, 973, 974, 975,\n",
       "        976, 977, 978, 979, 980, 981, 982, 983, 984, 985, 986, 987, 988,\n",
       "        989, 990, 991, 992, 993, 994, 995, 996, 997, 998, 999]),\n",
       " 0.4984984984984985]"
      ]
     },
     "execution_count": 92,
     "metadata": {},
     "output_type": "execute_result"
    },
    {
     "data": {
      "image/png": "[encoded data removed]",
      "text/plain": [
       "<Figure size 576x432 with 1 Axes>"
      ]
     },
     "metadata": {
      "needs_background": "light"
     },
     "output_type": "display_data"
    }
   ],
   "source": [
    "import pandas as pd\n",
    "import matplotlib.pyplot as plt\n",
    "%matplotlib inline\n",
    "plt.figure(figsize=(8,6))\n",
    "x = \n",
    "y = \n",
    "plt.plot()\n"
   ]
  },
  {
   "cell_type": "markdown",
   "metadata": {},
   "source": [
    "## Summary\n",
    "\n",
    "In this lab, you further investigated the idea of Bayes' theorem and Bayesian statistics in general through the Monty Hall problem. Hopefully, this was an entertaining little experience! "
   ]
  }
 ],
 "metadata": {
  "kernelspec": {
   "display_name": "Python 3",
   "language": "python",
   "name": "python3"
  },
  "language_info": {
   "codemirror_mode": {
    "name": "ipython",
    "version": 3
   },
   "file_extension": ".py",
   "mimetype": "text/x-python",
   "name": "python",
   "nbconvert_exporter": "python",
   "pygments_lexer": "ipython3",
   "version": "3.6.9"
  },
  "toc": {
   "base_numbering": 1,
   "nav_menu": {},
   "number_sections": true,
   "sideBar": true,
   "skip_h1_title": false,
   "title_cell": "Table of Contents",
   "title_sidebar": "Contents",
   "toc_cell": false,
   "toc_position": {},
   "toc_section_display": true,
   "toc_window_display": false
  }
 },
 "nbformat": 4,
 "nbformat_minor": 2
}

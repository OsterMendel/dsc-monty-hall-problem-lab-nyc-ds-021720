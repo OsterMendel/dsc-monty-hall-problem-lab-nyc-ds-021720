{
 "cells": [
  {
   "cell_type": "markdown",
   "metadata": {},
   "source": [
    "# The Monty Hall Problem\n",
    "\n",
    "## Introduction\n",
    "\n",
    "The Monty Hall problem is a famous little puzzle from a game show. It goes like this: you are presented with 3 doors. Behind two are goats and behind the third is a car. You are asked to select a door; if you select the door with the car, you win! After selecting, the host then opens one of the remaining two doors, revealing a goat. The host then asks if you would like to switch doors or stick with your original choice. What would you do? Does it matter?\n",
    "\n",
    "<img src=\"images/Image_58_MontyHall.png\">\n",
    "\n",
    "## Objectives\n",
    "\n",
    "In this lab you will:\n",
    "\n",
    "- Use Bayes' theorem along with a simulation to solve the Monty Hall problem"
   ]
  },
  {
   "cell_type": "markdown",
   "metadata": {},
   "source": [
    "## Run a simulation\n",
    "\n",
    "This is not a traditional application of Bayes' theorem, so trying to formulate the problem as such is tricky at best. That said, the scenario does capture the motivating conception behind Bayesian statistics: updating our beliefs in the face of additional evidence. With this, you'll employ another frequently used tool Bayesians frequently employ, running simulations. To do this, generate a random integer between one and three to represent the door hiding the car. Then, generate a second integer between one and three representing the player's selection. Then, of those the contestant did not choose, select a door concealing a goat to reveal. Record the results of the simulated game if they changed versus if they did not. Repeat this process a thousand (or more) times. Finally, plot the results of your simulation as a line graph. The x-axis should be the number of simulations, and the y-axis should be the probability of winning. (There should be two lines on the graph, one for switching doors, and the other for keeping the original selection.)"
   ]
  },
  {
   "cell_type": "code",
   "execution_count": 96,
   "metadata": {},
   "outputs": [],
   "source": [
    "# Your code here\n",
    "def monty_hall(n):\n",
    "    \n",
    "    '''\n",
    "    simulates the monty hall problem \n",
    "    returns x array of number of simulations and\n",
    "    a y array for probability of success\n",
    "    '''\n",
    "    \n",
    "    import numpy as np\n",
    "    changed_list = []\n",
    "    didnt_change_list = []\n",
    "    for x in range(1,n):\n",
    "        doors = np.array([1,2,3])\n",
    "        car_door = np.random.randint(1,4) \n",
    "        first_guess = np.random.randint(1,4)\n",
    "        rest_of_doors = doors[doors != car_door]\n",
    "        reveal = np.random.choice(rest_of_doors)\n",
    "        remaining_doors = doors[(doors != reveal) & (doors != first_guess)]\n",
    "        changed = np.random.choice(remaining_doors)\n",
    "        didnt_change = first_guess\n",
    "        win_changed = changed == car_door\n",
    "        win_didnt_change = didnt_change == car_door \n",
    "        changed_list.append(win_changed)\n",
    "        didnt_change_list.append(win_didnt_change)\n",
    "    x = np.array(range(1,n))\n",
    "    y_changed = sum(changed_list)/len(x)\n",
    "    y_didnt_change = sum(didnt_change_list)/len(x)\n",
    "    \n",
    "    # print('car is behind: ', car_door)\n",
    "    # print('first guess was: ',first_guess)\n",
    "    # print('the door revealed was: ',reveal)\n",
    "    # print('guest changed to: ',changed)\n",
    "    # print('guest didnt change and kept: ',didnt_change)\n",
    "    \n",
    "    return [x, changed_list],[x, didnt_change_list]\n"
   ]
  },
  {
   "cell_type": "code",
   "execution_count": 108,
   "metadata": {},
   "outputs": [
    {
     "data": {
      "text/plain": [
       "0.4644644644644645"
      ]
     },
     "execution_count": 108,
     "metadata": {},
     "output_type": "execute_result"
    }
   ],
   "source": [
    "import pandas as pd\n",
    "import matplotlib.pyplot as plt\n",
    "%matplotlib inline\n",
    "# plt.figure(figsize=(8,6))\n",
    "# x = monty_hall(1000)[0][0]\n",
    "np.mean(monty_hall(1000)[0][1][:1000])\n",
    "# y1 = [np.mean(monty_hall(1000)[0][1][:i]) for i in monty_hall(1000)[0][1]]\n",
    "# y2 = monty_hall(1000)[1][1]\n",
    "# plt.plot(x,y1)\n"
   ]
  },
  {
   "cell_type": "markdown",
   "metadata": {},
   "source": [
    "## Summary\n",
    "\n",
    "In this lab, you further investigated the idea of Bayes' theorem and Bayesian statistics in general through the Monty Hall problem. Hopefully, this was an entertaining little experience! "
   ]
  }
 ],
 "metadata": {
  "kernelspec": {
   "display_name": "Python 3",
   "language": "python",
   "name": "python3"
  },
  "language_info": {
   "codemirror_mode": {
    "name": "ipython",
    "version": 3
   },
   "file_extension": ".py",
   "mimetype": "text/x-python",
   "name": "python",
   "nbconvert_exporter": "python",
   "pygments_lexer": "ipython3",
   "version": "3.6.9"
  },
  "toc": {
   "base_numbering": 1,
   "nav_menu": {},
   "number_sections": true,
   "sideBar": true,
   "skip_h1_title": false,
   "title_cell": "Table of Contents",
   "title_sidebar": "Contents",
   "toc_cell": false,
   "toc_position": {},
   "toc_section_display": true,
   "toc_window_display": false
  }
 },
 "nbformat": 4,
 "nbformat_minor": 2
}
